{
 "cells": [
  {
   "cell_type": "markdown",
   "metadata": {},
   "source": [
    "# Problem 2:"
   ]
  },
  {
   "cell_type": "code",
   "execution_count": 1,
   "metadata": {},
   "outputs": [],
   "source": [
    "def inv_foip(n):\n",
    "    i = 1\n",
    "    k1 = 0\n",
    "    k2 = 1\n",
    "    while k2 < n:\n",
    "        k2 = k2 + k1\n",
    "        k1 = k2 - k1\n",
    "        i += 1\n",
    "        if k2 == n:\n",
    "            return i\n",
    "    return -1\n",
    "        \n",
    "    "
   ]
  },
  {
   "cell_type": "markdown",
   "metadata": {},
   "source": [
    "## test\n",
    "* All result must be True!"
   ]
  },
  {
   "cell_type": "code",
   "execution_count": 2,
   "metadata": {},
   "outputs": [
    {
     "name": "stdout",
     "output_type": "stream",
     "text": [
      "True\n",
      "True\n",
      "True\n"
     ]
    }
   ],
   "source": [
    "print(inv_foip(21) == 8)\n",
    "print(inv_foip(55) == 10)\n",
    "print(inv_foip(54) == -1)"
   ]
  },
  {
   "cell_type": "markdown",
   "metadata": {},
   "source": [
    "# Problem 3:"
   ]
  },
  {
   "cell_type": "code",
   "execution_count": 3,
   "metadata": {},
   "outputs": [],
   "source": [
    "class Node:\n",
    "    def __init__(self, val):\n",
    "        self.val = val\n",
    "        self.next = None\n",
    "    \n",
    "    def nexts(self, nexts):\n",
    "        self.next = nexts\n",
    "        \n",
    "        \n",
    "    def __repr__(self):\n",
    "        return f'{self.val} -> {self.next} '"
   ]
  },
  {
   "cell_type": "code",
   "execution_count": 4,
   "metadata": {},
   "outputs": [],
   "source": [
    "class LinkedList:\n",
    "    def __init__(self):\n",
    "        self.head = None\n",
    "    \n",
    "    def add(self, val):\n",
    "        if self.head == None:\n",
    "            self.head = val\n",
    "        else:\n",
    "            val.next = self.head\n",
    "            self.head = val\n",
    "    \n",
    "    def __repr__(self):\n",
    "        return self.head.__repr__()\n",
    "    \n",
    "    def __iter__(self):\n",
    "        li = self.head\n",
    "        while  li.next != None:\n",
    "            yield li.val\n",
    "            li = li.next\n",
    "        yield li.val\n",
    "    \n",
    "    def  __getitem__(self, n):\n",
    "        if n==0: return self.head.val\n",
    "        li = self.head\n",
    "        for i in range(n):\n",
    "            li = li.next\n",
    "        return li.val\n",
    "    \n",
    "    def __len__(self):\n",
    "        for i,v in enumerate(self):\n",
    "            pass\n",
    "        return i+1\n",
    "            \n",
    "            \n",
    "        "
   ]
  },
  {
   "cell_type": "code",
   "execution_count": 5,
   "metadata": {},
   "outputs": [],
   "source": [
    "def intersection_linkedlist(list1, list2):\n",
    "    m = min(len(list1), len(list2))\n",
    "    li = LinkedList()\n",
    "    for i in range(m):\n",
    "        if list1[i] == list2[i]: li.add(Node(list1[i]))\n",
    "\n",
    "    return li"
   ]
  },
  {
   "cell_type": "markdown",
   "metadata": {},
   "source": [
    "# Test\n",
    "* result must be same as:\n",
    "###### 5 -> None"
   ]
  },
  {
   "cell_type": "code",
   "execution_count": 6,
   "metadata": {},
   "outputs": [
    {
     "name": "stdout",
     "output_type": "stream",
     "text": [
      "5 -> None \n"
     ]
    }
   ],
   "source": [
    "list_1 = LinkedList()\n",
    "list_1.add(Node(5))\n",
    "list_1.add(Node(7))\n",
    "\n",
    "list_2 = LinkedList()\n",
    "list_2.add(Node(5))\n",
    "list_2.add(Node(15))\n",
    "print(intersection_linkedlist(list_1, list_2))"
   ]
  },
  {
   "cell_type": "markdown",
   "metadata": {},
   "source": [
    "# Problem 4"
   ]
  },
  {
   "cell_type": "code",
   "execution_count": 7,
   "metadata": {},
   "outputs": [],
   "source": [
    "def poly(x, la, k):\n",
    "    s = 0\n",
    "    p = 1\n",
    "    for a in la:\n",
    "        s += a*p\n",
    "        p *= x\n",
    "        \n",
    "    return s%k"
   ]
  },
  {
   "cell_type": "code",
   "execution_count": 8,
   "metadata": {},
   "outputs": [],
   "source": [
    "def count(la, k, target):\n",
    "    counter = 0\n",
    "    x = 0\n",
    "    x0 = poly(x, la, k)\n",
    "    \n",
    "    while True:\n",
    "        if counter == k:\n",
    "            return -1\n",
    "        if x == target:\n",
    "            break\n",
    "        x = poly(x, la, k)\n",
    "        \n",
    "\n",
    "        counter += 1\n",
    "    return counter\n",
    "        \n",
    "    "
   ]
  },
  {
   "cell_type": "markdown",
   "metadata": {},
   "source": [
    "# Test\n",
    "* all result must be True"
   ]
  },
  {
   "cell_type": "code",
   "execution_count": 9,
   "metadata": {},
   "outputs": [
    {
     "name": "stdout",
     "output_type": "stream",
     "text": [
      "True\n",
      "True\n",
      "True\n"
     ]
    }
   ],
   "source": [
    "print(count((2,3,-1), 20 ,14) == 5)\n",
    "print(count((2,3,-1), 20 ,0) == 0)\n",
    "print(count((2,3,-1), 20 ,1) == -1)"
   ]
  }
 ],
 "metadata": {
  "kernelspec": {
   "display_name": "Python 3",
   "language": "python",
   "name": "python3"
  },
  "language_info": {
   "codemirror_mode": {
    "name": "ipython",
    "version": 3
   },
   "file_extension": ".py",
   "mimetype": "text/x-python",
   "name": "python",
   "nbconvert_exporter": "python",
   "pygments_lexer": "ipython3",
   "version": "3.7.6"
  }
 },
 "nbformat": 4,
 "nbformat_minor": 4
}
